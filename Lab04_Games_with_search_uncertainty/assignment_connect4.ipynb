{
  "cells": [
    {
      "cell_type": "markdown",
      "metadata": {
        "id": "xTrfeBQawixz"
      },
      "source": [
        "# Adversarial Search: Playing Connect 4\n",
        "\n",
        "Student Name: [Add your name]\n",
        "\n",
        "I have used the following AI tools: [list tools]\n",
        "\n",
        "I understand that my submission needs to be my own work: [your initials]"
      ]
    },
    {
      "cell_type": "markdown",
      "metadata": {
        "id": "2LKarVu0wix0"
      },
      "source": [
        "## Learning Outcomes\n",
        "\n",
        "* Implement adversarial search algorithms for strategic game play.\n",
        "* Analyze and optimize search in complex game spaces.\n",
        "* Design effective heuristic evaluation functions.\n",
        "* Compare performance across different agent strategies.\n",
        "* Evaluate algorithmic trade-offs between decision quality and efficiency."
      ]
    },
    {
      "cell_type": "markdown",
      "metadata": {
        "id": "UEsRD92Twix1"
      },
      "source": [
        "## Instructions\n",
        "\n",
        "Total Points: Undergraduates 100, graduate students 110\n",
        "\n",
        "Complete this notebook and submit it. The notebook needs to be a complete project report with your implementation, documentation including a short discussion of how your implementation works and your design choices, and experimental results (e.g., tables and charts with simulation results) with a short discussion of what they mean. Use the provided notebook cells and insert additional code and markdown cells as needed. Submit the completely rendered notebook as a HTML file.\n",
        "\n",
        "\n",
        "## Introduction\n",
        "\n",
        "You will implement different versions of agents that play Connect 4:\n",
        "\n",
        "> \"Connect 4 is a two-player connection board game, in which the players choose a color and then take turns dropping colored discs into a seven-column, six-row vertically suspended grid. The pieces fall straight down, occupying the lowest available space within the column. The objective of the game is to be the first to form a horizontal, vertical, or diagonal line of four of one's own discs.\" (see [Connect Four on Wikipedia](https://en.wikipedia.org/wiki/Connect_Four))\n",
        "\n",
        "Note that [Connect-4 has been solved](https://en.wikipedia.org/wiki/Connect_Four#Mathematical_solution)\n",
        "in 1988. A connect-4 solver with a discussion of how to solve different parts of the problem can be found here: https://connect4.gamesolver.org/en/"
      ]
    },
    {
      "cell_type": "markdown",
      "metadata": {
        "id": "m12SogU3wix1"
      },
      "source": [
        "## Task 1: Defining the Search Problem [10 point]\n",
        "\n",
        "Define the components of the search problem:\n",
        "\n",
        "* Initial state\n",
        "* Actions\n",
        "* Transition model (result function)\n",
        "* Goal state (terminal state and utility)\n",
        "\n",
        "Describe each component and then implement it as a function that can be used by search algorithms."
      ]
    },
    {
      "cell_type": "code",
      "execution_count": null,
      "metadata": {
        "id": "D_UPntUawix2",
        "colab": {
          "base_uri": "https://localhost:8080/",
          "height": 110
        },
        "outputId": "203bcccf-e124-48fb-e67d-a46ba3424815"
      },
      "outputs": [
        {
          "output_type": "execute_result",
          "data": {
            "text/plain": [
              "'\\n  Thành phần      |                                            Mô tả                                            |         Hàm Cần Có\\n  Initial State   |Bàn cờ trống (Hoặc vị trí bắt đầu của game)                                                  |empty_board()\\n  Actions         |Các cột còn trống để người chơi thả quân                                                     |actions(state)\\n  Transition model|Mô phỏng việc người chơi chọn cột và quân rơi xuống hàng thấp nhất còn trống                 |result(state, player, action)\\n  Goal state      |Kiểm tra xem có người thắng (4 liên tiếp theo hàng, cột hoặc chéo) hay hòa (bàn đầy)         |terminal(state)\\n  Utility         |Trả về giá trị cho người thắng/thua/hòa (ví dụ +1, -1, 0)                                    |utility(state, player)\\n'"
            ],
            "application/vnd.google.colaboratory.intrinsic+json": {
              "type": "string"
            }
          },
          "metadata": {},
          "execution_count": 1
        }
      ],
      "source": [
        "# Your code/answer goes here.\n",
        "\"\"\"\n",
        "  Thành phần      |                                            Mô tả                                            |         Hàm Cần Có\n",
        "  Initial State   |Bàn cờ trống (Hoặc vị trí bắt đầu của game)                                                  |empty_board()\n",
        "  Actions         |Các cột còn trống để người chơi thả quân                                                     |actions(state)\n",
        "  Transition model|Mô phỏng việc người chơi chọn cột và quân rơi xuống hàng thấp nhất còn trống                 |result(state, player, action)\n",
        "  Goal state      |Kiểm tra xem có người thắng (4 liên tiếp theo hàng, cột hoặc chéo) hay hòa (bàn đầy)         |terminal(state)\n",
        "  Utility         |Trả về giá trị cho người thắng/thua/hòa (ví dụ +1, -1, 0)                                    |utility(state, player)\n",
        "\"\"\"\n"
      ]
    },
    {
      "cell_type": "markdown",
      "metadata": {
        "id": "wh69bHwPwix3"
      },
      "source": [
        "How big is the state space? Give an estimate and explain it."
      ]
    },
    {
      "cell_type": "code",
      "execution_count": null,
      "metadata": {
        "id": "6w5_ho27wix3",
        "colab": {
          "base_uri": "https://localhost:8080/"
        },
        "outputId": "a9237a10-c8cf-4058-aa6e-37b595046bc2"
      },
      "outputs": [
        {
          "output_type": "execute_result",
          "data": {
            "text/plain": [
              "109418989131512359209"
            ]
          },
          "metadata": {},
          "execution_count": 2
        }
      ],
      "source": [
        "# Your answer goes here.\n",
        "\"\"\"\n",
        "  Bàn cờ connect 4 có kích thước là 6x7 (tức 42 ô)\n",
        "  Mà mỗi ô có thể có 3 trạng thái là:\n",
        "    + 1: Quân của người chơi thứ nhất\n",
        "    + -1: Quân của người chơi thứ hai\n",
        "    + 0: Ô trống\n",
        "  Nếu giả sử tất cả các sắp xếp đều hợp lệ (Không xét đến quy luật \"quân rơi xuống đáy\"), thì tổng số trạng thái có thể là: 3^42\n",
        "\"\"\"\n",
        "3**42"
      ]
    },
    {
      "cell_type": "markdown",
      "metadata": {
        "id": "IRXZRT7Ywix3"
      },
      "source": [
        "How big is the game tree that minimax search will go through? Give an estimate and explain it."
      ]
    },
    {
      "cell_type": "code",
      "execution_count": null,
      "metadata": {
        "id": "ZY4hfYT0wix4",
        "colab": {
          "base_uri": "https://localhost:8080/"
        },
        "outputId": "366cd13a-a451-48f9-d36e-91b7aee6ac5c"
      },
      "outputs": [
        {
          "output_type": "execute_result",
          "data": {
            "text/plain": [
              "311973482284542371301330321821976049"
            ]
          },
          "metadata": {},
          "execution_count": 3
        }
      ],
      "source": [
        "# Your answer goes here.\n",
        "\"\"\"\n",
        "  Trong mỗi lượt, người chơi có thể chọn một trong 7 cột để thả quân → hệ số phân nhánh ≈ 7.\n",
        "  Nếu trò chơi kéo dài tối đa 42 lượt đi (khi bàn đầy) thì số lượng nút lá tối đa của cây trò chơi là: 7^42\n",
        "  Tuy nhiên, trên thực tế:\n",
        "   + Nhiều ván kết thúc sớm do có người chiến thắng\n",
        "   + Một số cột sẽ đầy và không thể chọn nữa\n",
        "  Do đó, kích thước cây trò chơi thực tế nhỏ hơn\n",
        "\"\"\"\n",
        "7**42"
      ]
    },
    {
      "cell_type": "markdown",
      "metadata": {
        "id": "18JfNxoXwix4"
      },
      "source": [
        "## Task 2: Game Environment and Random Agent [25 point]\n",
        "\n",
        "Use a numpy character array as the board."
      ]
    },
    {
      "cell_type": "code",
      "execution_count": 4,
      "metadata": {
        "id": "OfdJaLP7wix5",
        "outputId": "9577ee0a-1178-41f0-90c4-3519850d5660",
        "colab": {
          "base_uri": "https://localhost:8080/"
        }
      },
      "outputs": [
        {
          "output_type": "stream",
          "name": "stdout",
          "text": [
            "[[0 0 0 0 0 0 0]\n",
            " [0 0 0 0 0 0 0]\n",
            " [0 0 0 0 0 0 0]\n",
            " [0 0 0 0 0 0 0]\n",
            " [0 0 0 0 0 0 0]\n",
            " [0 0 0 0 0 0 0]]\n"
          ]
        }
      ],
      "source": [
        "import numpy as np\n",
        "\n",
        "def empty_board(shape=(6, 7)):\n",
        "    return np.full(shape=shape, fill_value=0)\n",
        "\n",
        "print(empty_board())"
      ]
    },
    {
      "cell_type": "markdown",
      "metadata": {
        "id": "7lyI-hcIwix5"
      },
      "source": [
        "The standard board is $6 \\times 7$ but you can use smaller boards to test your code. Instead of colors (red and yellow), I use 1 and -1 to represent the players. Make sure that your agent functions all have the from: `agent_type(board, player = 1)`, where board is the current board position (in the format above) and player is the player whose next move it is and who the agent should play (as 1 and -1)."
      ]
    },
    {
      "cell_type": "code",
      "execution_count": 5,
      "metadata": {
        "tags": [],
        "id": "VODZfSlHwix5",
        "outputId": "0ba3fe1c-6e65-47a3-af0b-20a0d77f927d",
        "colab": {
          "base_uri": "https://localhost:8080/",
          "height": 430
        }
      },
      "outputs": [
        {
          "output_type": "display_data",
          "data": {
            "text/plain": [
              "<Figure size 640x480 with 1 Axes>"
            ],
            "image/png": "[encoded data removed]"
          },
          "metadata": {}
        }
      ],
      "source": [
        "# Visualization code by Randolph Rankin\n",
        "\n",
        "import matplotlib.pyplot as plt\n",
        "\n",
        "def visualize(board):\n",
        "    plt.axes()\n",
        "    rectangle=plt.Rectangle((-0.5,len(board)*-1+0.5),len(board[0]),len(board),fc='blue')\n",
        "    circles=[]\n",
        "    for i,row in enumerate(board):\n",
        "        for j,val in enumerate(row):\n",
        "            color='white' if val==0 else 'red' if val==1 else 'yellow'\n",
        "            circles.append(plt.Circle((j,i*-1),0.4,fc=color))\n",
        "\n",
        "    plt.gca().add_patch(rectangle)\n",
        "    for circle in circles:\n",
        "        plt.gca().add_patch(circle)\n",
        "\n",
        "    plt.axis('scaled')\n",
        "    plt.show()\n",
        "\n",
        "board = [[0, 0, 0, 0, 0, 0, 0],\n",
        "         [0, 0, 0, 0, 0, 0, 0],\n",
        "         [0, 0, 0, 0, 0, 0, 0],\n",
        "         [0, 0, 0, 1, 0, 0, 0],\n",
        "         [0, 0, 0, 1, 0, 0, 0],\n",
        "         [0,-1,-1, 1,-1, 0, 0]]\n",
        "visualize(board)"
      ]
    },
    {
      "cell_type": "markdown",
      "metadata": {
        "tags": [],
        "id": "QvVdr4-8wix6"
      },
      "source": [
        "Implement helper functions for:\n",
        "\n",
        "* A check for available actions in each state `actions(state)`.\n",
        "* The transition model `result(state, player, action)`.\n",
        "* Check for terminal states `terminal(state)`.\n",
        "* The utility function `utility(state, player)`.\n",
        "\n",
        "The player argument is used so your agent can play red or yellow.\n",
        "Make sure that all these functions work with boards of different sizes (number of columns and rows).\n",
        "You can follow the [tic-tac-toe example from class.](https://colab.research.google.com/github/mhahsler/CS7320-AI/blob/master/Games/tictactoe_definitions.ipynb)"
      ]
    },
    {
      "cell_type": "code",
      "execution_count": 1,
      "metadata": {
        "id": "rd1HjcpEwix6"
      },
      "outputs": [],
      "source": [
        "# Your code/ answer goes here.\n",
        "def actions(state):\n",
        "    actions = []\n",
        "    for c in range(state.shape[1]):\n",
        "        if 0 in state[:,c]:\n",
        "            actions.append(c)\n",
        "    return actions\n",
        "def result(state, player, action):\n",
        "    new_state = state.copy()\n",
        "    for r in range(new_state.shape[0]-1, -1, -1):\n",
        "        if new_state[r, action] == 0:\n",
        "            new_state[r, action] = player\n",
        "            break\n",
        "    return new_state\n",
        "\n",
        "def check_winner(state, player):\n",
        "  # Kiểm tra xem người chơi có 4 quân liên tiếp không\n",
        "  rows,cols = state.shape\n",
        "\n",
        "  # Kiểm tra hàng ngang\n",
        "  for r in range(rows):\n",
        "    for c in range(cols-3):\n",
        "      if np.all(state[r,c:c+4] == player):\n",
        "        return True\n",
        "  # Kiểm tra hàng dọc\n",
        "  for c in range(cols):\n",
        "    for r in range(rows-3):\n",
        "      if np.all(state[r:r+4,c] == player):\n",
        "        return True\n",
        "  # Kiểm tra đường chéo xuống \"\\\"\n",
        "  for r in range(rows-3):\n",
        "    for c in range(cols-3):\n",
        "      if np.all([state[r+i,c+i] == player for i in range(4)]):\n",
        "        return True\n",
        "  # Kiểm tra đường chéo lên \"/\"\n",
        "  for r in range(3, rows):\n",
        "    for c in range(cols-3):\n",
        "      if np.all([state[r-i,c+i] == player for i in range(4)]) :\n",
        "        return True\n",
        "  return False\n",
        "\n",
        "def terminal(state):\n",
        "  if check_winner(state, 1) or check_winner(state, -1):\n",
        "    return True\n",
        "  if np.all(state != 0):\n",
        "    return True\n",
        "  return False\n",
        "def utility(state):\n",
        "  if check_winner(state, 1):\n",
        "    return 1                      # Player 1 thắng\n",
        "  elif check_winner(state, -1):\n",
        "    return -1                     # Player 2 thắng\n",
        "  else:\n",
        "    return 0"
      ]
    },
    {
      "cell_type": "markdown",
      "metadata": {
        "id": "0XGdkuwawix6"
      },
      "source": [
        "Implement an agent that plays randomly. Make sure the agent function receives as the percept the board and returns a valid action. Use an agent function definition with the following signature (arguments):\n",
        "\n",
        "`def random_player(board, player = 1): ...`\n",
        "\n",
        "The argument `player` is used for agents that do not store what color they are playing. The value passed on by the environment should be 1 ot -1 for player red and yellow, respectively.  See [Experiments section for tic-tac-toe](https://nbviewer.org/github/mhahsler/CS7320-AI/blob/master/Games/tictactoe_and_or_tree_search.ipynb#Experiments) for an example."
      ]
    },
    {
      "cell_type": "code",
      "execution_count": 2,
      "metadata": {
        "id": "YOSQho4xwix6"
      },
      "outputs": [],
      "source": [
        "# Your code/ answer goes here.\n",
        "def random_player(board, player = 1):\n",
        "  possible_move = actions(board)\n",
        "  if not possible_move:\n",
        "        return None\n",
        "  return np.random.choice(possible_move)"
      ]
    },
    {
      "cell_type": "markdown",
      "metadata": {
        "id": "eOPsWX-Wwix6"
      },
      "source": [
        "Let two random agents play against each other 1000 times. Look at the [Experiments section for tic-tac-toe](https://nbviewer.org/github/mhahsler/CS7320-AI/blob/master/Games/tictactoe_and_or_tree_search.ipynb#Experiments) to see how the environment uses the agent functions to play against each other.\n",
        "\n",
        "How often does each player win? Is the result expected?"
      ]
    },
    {
      "cell_type": "code",
      "execution_count": 6,
      "metadata": {
        "tags": [],
        "id": "HPOG1oCXwix7",
        "colab": {
          "base_uri": "https://localhost:8080/"
        },
        "outputId": "35e5dc2b-4e38-4e47-ee00-1af6ff061d07"
      },
      "outputs": [
        {
          "output_type": "stream",
          "name": "stdout",
          "text": [
            "{'player_1': 563, 'player_2': 432, 'draw': 5}\n"
          ]
        }
      ],
      "source": [
        "# Your code/ answer goes here.\n",
        "def play_game(player1, player2, N=1000, shape=(6,7), show_board=False):\n",
        "  results = {\"player_1\": 0, \"player_2\": 0, \"draw\": 0}\n",
        "  for i in range(N):\n",
        "    board = empty_board(shape)\n",
        "    while True:\n",
        "      # Player 1 move\n",
        "      p1_move = player1(board, 1)\n",
        "      if p1_move is None:\n",
        "        break\n",
        "      board = result(board, 1, p1_move)\n",
        "      if show_board:\n",
        "        visualize(board)\n",
        "      # Kiểm tra đã có người thắng chưa\n",
        "      if terminal(board):\n",
        "        u = utility(board)\n",
        "        if u == 1:\n",
        "          results[\"player_1\"] += 1\n",
        "        elif u == -1:\n",
        "          results[\"player_2\"] += 1\n",
        "        else:\n",
        "          results[\"draw\"] += 1\n",
        "        break\n",
        "      # Player 2 move\n",
        "      p2_move = player2(board,-1)\n",
        "      if p2_move is None:\n",
        "        break\n",
        "      board = result(board, -1, p2_move)\n",
        "      if show_board:\n",
        "        visualize(board)\n",
        "      # Kiểm tra đã có người thắng chưa\n",
        "      if terminal(board):\n",
        "        u = utility(board)\n",
        "        if u == 1:\n",
        "          results[\"player_1\"] += 1\n",
        "        elif u == -1:\n",
        "          results[\"player_2\"] += 1\n",
        "        else:\n",
        "          results[\"draw\"] += 1\n",
        "        break\n",
        "  return results\n",
        "\n",
        "stats = play_game(random_player, random_player, N=1000, show_board=False)\n",
        "print(stats)"
      ]
    },
    {
      "cell_type": "markdown",
      "metadata": {
        "id": "nffs_im2wix7"
      },
      "source": [
        "## Task 3: Minimax Search with Alpha-Beta Pruning\n",
        "\n",
        "### Implement the Search [20 points]\n",
        "\n",
        "Implement minimax search starting from a given board for specifying the player.\n",
        "\n",
        "__Important Notes:__\n",
        "* You can use code from the [tic-tac-toe example](https://nbviewer.org/github/mhahsler/CS7320-AI/blob/master/Games/tictactoe_alpha_beta_tree_search.ipynb).\n",
        "* Make sure that all your agent functions have a signature consistent with the random agent above and that it [uses a class to store state information.](https://nbviewer.org/github/mhahsler/CS7320-AI/blob/master/HOWTOs/store_agent_state_information.ipynb)\n",
        "This is essential to be able play against agents from other students later.\n",
        "* The game tree for a $6 \\times 7$ board is huge and optimal algorithms need to visit each or a large percentage of all nodes in the tree. You can experiment with smaller boards like a $4 \\times 4$ board first."
      ]
    },
    {
      "cell_type": "code",
      "execution_count": 13,
      "metadata": {
        "id": "Ujb3RfpXwix7"
      },
      "outputs": [],
      "source": [
        "# Your code/ answer goes here.\n",
        "import math\n",
        "import time\n",
        "def minimax_agent(board,player):\n",
        "  best_value = -math.inf\n",
        "  best_move = None\n",
        "  for action in actions(board):\n",
        "    value = min_value(result(board,player,action),-player,-math.inf,math.inf)\n",
        "    if value > best_value:\n",
        "      best_value = value\n",
        "      best_move = action\n",
        "  return best_move\n",
        "def max_value(board,player,alpha,beta):\n",
        "  if terminal(board):\n",
        "    return utility(board)\n",
        "  v = -math.inf\n",
        "  for action in actions(board):\n",
        "    v = max(v,min_value(result(board,player,action),-player,alpha,beta))\n",
        "    if v >= beta:\n",
        "      return v\n",
        "    alpha = max(alpha,v)\n",
        "  return v\n",
        "\n",
        "def min_value(board,player,alpha,beta):\n",
        "  if terminal(board):\n",
        "    return utility(board)\n",
        "  v = math.inf\n",
        "  for action in actions(board):\n",
        "    v = min(v,max_value(result(board,player,action),-player,alpha,beta))\n",
        "    if v <= alpha:\n",
        "      return v\n",
        "    beta = min(beta,v)\n",
        "  return v"
      ]
    },
    {
      "cell_type": "markdown",
      "metadata": {
        "id": "rLL_BoJswix7"
      },
      "source": [
        "Experiment with some manually created boards (at least 5) to check if the agent spots winning opportunities."
      ]
    },
    {
      "cell_type": "code",
      "execution_count": null,
      "metadata": {
        "id": "IfNo2bBqwix7",
        "colab": {
          "base_uri": "https://localhost:8080/"
        },
        "outputId": "af928292-4fe2-4ed0-ca7e-0b0c2a40710f"
      },
      "outputs": [
        {
          "output_type": "stream",
          "name": "stdout",
          "text": [
            "Board 1:\n",
            "Best move: 3\n",
            "\n",
            "Board 2:\n",
            "Best move: 0\n",
            "\n",
            "Board 3:\n",
            "Best move: 3\n",
            "\n",
            "Board 4:\n",
            "Best move: 0\n",
            "\n",
            "Board 5:\n",
            "Best move: 0\n",
            "\n"
          ]
        }
      ],
      "source": [
        "# Your code/ answer goes here.\n",
        "board1 = [[0,0,0,0],\n",
        "          [0,0,1,-1],\n",
        "          [0,1,-1,1],\n",
        "          [1,-1,1,-1]]\n",
        "board2 = [[0,0,0,0],\n",
        "          [1,0,-1,-1],\n",
        "          [1,0,-1,1],\n",
        "          [1,-1,-1,1]]\n",
        "board3 = [[0,0,0,0],\n",
        "          [0,0,-1,0],\n",
        "          [-1,-1,0,0],\n",
        "          [1,1,1,0]]\n",
        "board4 = [[0,0,0,0],\n",
        "          [1,0,0,0],\n",
        "          [1,0,-1,0],\n",
        "          [1,-1,-1,0]]\n",
        "board5 = [[0,0,0,0],\n",
        "          [-1,1,0,0],\n",
        "          [-1,1,1,0],\n",
        "          [1,-1,-1,1]]\n",
        "for i, board in enumerate([board1, board2, board3, board4, board5], start=1):\n",
        "    print(f\"Board {i}:\")\n",
        "    move = minimax_agent(np.array(board), 1)  # MAX = 1\n",
        "    print(\"Best move:\", move)\n",
        "    print()\n"
      ]
    },
    {
      "cell_type": "markdown",
      "metadata": {
        "id": "hkhgrzwHwix7"
      },
      "source": [
        "How long does it take to make a move? Start with a smaller board with 4 columns and make the board larger by adding columns/rows. Explain why using this algorithm on a standard $6 \\times 7$ board is not feasible."
      ]
    },
    {
      "cell_type": "code",
      "execution_count": null,
      "metadata": {
        "id": "LOsS6ceOwix7",
        "colab": {
          "base_uri": "https://localhost:8080/",
          "height": 73
        },
        "outputId": "bac91784-c1a0-4c33-c20d-089d7b43001d"
      },
      "outputs": [
        {
          "output_type": "execute_result",
          "data": {
            "text/plain": [
              "'\\nVới bàn cờ 4×4, thuật toán Minimax chạy khá nhanh vì số lượng nước đi có thể ít.\\nTuy nhiên, khi mở rộng lên bàn cờ 6×7, số trạng thái có thể tăng theo cấp số mũ (khoảng 7⁴² ≈ 3 × 10³⁵), khiến việc duyệt hết toàn bộ cây trò chơi trở nên rất chậm và không khả thi.\\nDo đó, trong thực tế cần giới hạn độ sâu và dùng tỉa nhánh Alpha–Beta để giảm thời gian tính toán.\\n'"
            ],
            "application/vnd.google.colaboratory.intrinsic+json": {
              "type": "string"
            }
          },
          "metadata": {},
          "execution_count": 11
        }
      ],
      "source": [
        "# Your code/ answer goes here.\n",
        "\"\"\"\n",
        "Với bàn cờ 4×4, thuật toán Minimax chạy khá nhanh vì số lượng nước đi có thể ít.\n",
        "Tuy nhiên, khi mở rộng lên bàn cờ 6×7, số trạng thái có thể tăng theo cấp số mũ (khoảng 7⁴² ≈ 3 × 10³⁵), khiến việc duyệt hết toàn bộ cây trò chơi trở nên rất chậm và không khả thi.\n",
        "Do đó, trong thực tế cần giới hạn độ sâu và dùng tỉa nhánh Alpha–Beta để giảm thời gian tính toán.\n",
        "\"\"\""
      ]
    },
    {
      "cell_type": "markdown",
      "metadata": {
        "id": "wnxQgfjCwix8"
      },
      "source": [
        "### Move ordering [5 points]\n",
        "\n",
        "Starting the search with better moves will increase the efficiency of alpha-beta pruning. Describe and implement a simple move ordering strategy. Make a table that shows how the ordering strategies influence the time it takes to make a move?"
      ]
    },
    {
      "cell_type": "code",
      "execution_count": 14,
      "metadata": {
        "id": "J6O2kCAqwix8",
        "colab": {
          "base_uri": "https://localhost:8080/",
          "height": 175
        },
        "outputId": "b9a7b979-9883-4843-950d-32a2f845b360"
      },
      "outputs": [
        {
          "output_type": "execute_result",
          "data": {
            "text/plain": [
              "  Size Board Move Ordering    Time(s)\n",
              "0        3x3         Không   0.008135\n",
              "1        3x3            Có   0.009539\n",
              "2        4x4         Không  30.705261\n",
              "3        4x4            Có  19.027872"
            ],
            "text/html": [
              "\n",
              "  <div id=\"df-4f8794e1-c314-482c-a55c-82ffd4d6f726\" class=\"colab-df-container\">\n",
              "    <div>\n",
              "<style scoped>\n",
              "    .dataframe tbody tr th:only-of-type {\n",
              "        vertical-align: middle;\n",
              "    }\n",
              "\n",
              "    .dataframe tbody tr th {\n",
              "        vertical-align: top;\n",
              "    }\n",
              "\n",
              "    .dataframe thead th {\n",
              "        text-align: right;\n",
              "    }\n",
              "</style>\n",
              "<table border=\"1\" class=\"dataframe\">\n",
              "  <thead>\n",
              "    <tr style=\"text-align: right;\">\n",
              "      <th></th>\n",
              "      <th>Size Board</th>\n",
              "      <th>Move Ordering</th>\n",
              "      <th>Time(s)</th>\n",
              "    </tr>\n",
              "  </thead>\n",
              "  <tbody>\n",
              "    <tr>\n",
              "      <th>0</th>\n",
              "      <td>3x3</td>\n",
              "      <td>Không</td>\n",
              "      <td>0.008135</td>\n",
              "    </tr>\n",
              "    <tr>\n",
              "      <th>1</th>\n",
              "      <td>3x3</td>\n",
              "      <td>Có</td>\n",
              "      <td>0.009539</td>\n",
              "    </tr>\n",
              "    <tr>\n",
              "      <th>2</th>\n",
              "      <td>4x4</td>\n",
              "      <td>Không</td>\n",
              "      <td>30.705261</td>\n",
              "    </tr>\n",
              "    <tr>\n",
              "      <th>3</th>\n",
              "      <td>4x4</td>\n",
              "      <td>Có</td>\n",
              "      <td>19.027872</td>\n",
              "    </tr>\n",
              "  </tbody>\n",
              "</table>\n",
              "</div>\n",
              "    <div class=\"colab-df-buttons\">\n",
              "\n",
              "  <div class=\"colab-df-container\">\n",
              "    <button class=\"colab-df-convert\" onclick=\"convertToInteractive('df-4f8794e1-c314-482c-a55c-82ffd4d6f726')\"\n",
              "            title=\"Convert this dataframe to an interactive table.\"\n",
              "            style=\"display:none;\">\n",
              "\n",
              "  <svg xmlns=\"http://www.w3.org/2000/svg\" height=\"24px\" viewBox=\"0 -960 960 960\">\n",
              "    <path d=\"M120-120v-720h720v720H120Zm60-500h600v-160H180v160Zm220 220h160v-160H400v160Zm0 220h160v-160H400v160ZM180-400h160v-160H180v160Zm440 0h160v-160H620v160ZM180-180h160v-160H180v160Zm440 0h160v-160H620v160Z\"/>\n",
              "  </svg>\n",
              "    </button>\n",
              "\n",
              "  <style>\n",
              "    .colab-df-container {\n",
              "      display:flex;\n",
              "      gap: 12px;\n",
              "    }\n",
              "\n",
              "    .colab-df-convert {\n",
              "      background-color: #E8F0FE;\n",
              "      border: none;\n",
              "      border-radius: 50%;\n",
              "      cursor: pointer;\n",
              "      display: none;\n",
              "      fill: #1967D2;\n",
              "      height: 32px;\n",
              "      padding: 0 0 0 0;\n",
              "      width: 32px;\n",
              "    }\n",
              "\n",
              "    .colab-df-convert:hover {\n",
              "      background-color: #E2EBFA;\n",
              "      box-shadow: 0px 1px 2px rgba(60, 64, 67, 0.3), 0px 1px 3px 1px rgba(60, 64, 67, 0.15);\n",
              "      fill: #174EA6;\n",
              "    }\n",
              "\n",
              "    .colab-df-buttons div {\n",
              "      margin-bottom: 4px;\n",
              "    }\n",
              "\n",
              "    [theme=dark] .colab-df-convert {\n",
              "      background-color: #3B4455;\n",
              "      fill: #D2E3FC;\n",
              "    }\n",
              "\n",
              "    [theme=dark] .colab-df-convert:hover {\n",
              "      background-color: #434B5C;\n",
              "      box-shadow: 0px 1px 3px 1px rgba(0, 0, 0, 0.15);\n",
              "      filter: drop-shadow(0px 1px 2px rgba(0, 0, 0, 0.3));\n",
              "      fill: #FFFFFF;\n",
              "    }\n",
              "  </style>\n",
              "\n",
              "    <script>\n",
              "      const buttonEl =\n",
              "        document.querySelector('#df-4f8794e1-c314-482c-a55c-82ffd4d6f726 button.colab-df-convert');\n",
              "      buttonEl.style.display =\n",
              "        google.colab.kernel.accessAllowed ? 'block' : 'none';\n",
              "\n",
              "      async function convertToInteractive(key) {\n",
              "        const element = document.querySelector('#df-4f8794e1-c314-482c-a55c-82ffd4d6f726');\n",
              "        const dataTable =\n",
              "          await google.colab.kernel.invokeFunction('convertToInteractive',\n",
              "                                                    [key], {});\n",
              "        if (!dataTable) return;\n",
              "\n",
              "        const docLinkHtml = 'Like what you see? Visit the ' +\n",
              "          '<a target=\"_blank\" href=https://colab.research.google.com/notebooks/data_table.ipynb>data table notebook</a>'\n",
              "          + ' to learn more about interactive tables.';\n",
              "        element.innerHTML = '';\n",
              "        dataTable['output_type'] = 'display_data';\n",
              "        await google.colab.output.renderOutput(dataTable, element);\n",
              "        const docLink = document.createElement('div');\n",
              "        docLink.innerHTML = docLinkHtml;\n",
              "        element.appendChild(docLink);\n",
              "      }\n",
              "    </script>\n",
              "  </div>\n",
              "\n",
              "\n",
              "    <div id=\"df-0bc00845-71a9-4ab4-b7e0-a4e2a4c119ae\">\n",
              "      <button class=\"colab-df-quickchart\" onclick=\"quickchart('df-0bc00845-71a9-4ab4-b7e0-a4e2a4c119ae')\"\n",
              "                title=\"Suggest charts\"\n",
              "                style=\"display:none;\">\n",
              "\n",
              "<svg xmlns=\"http://www.w3.org/2000/svg\" height=\"24px\"viewBox=\"0 0 24 24\"\n",
              "     width=\"24px\">\n",
              "    <g>\n",
              "        <path d=\"M19 3H5c-1.1 0-2 .9-2 2v14c0 1.1.9 2 2 2h14c1.1 0 2-.9 2-2V5c0-1.1-.9-2-2-2zM9 17H7v-7h2v7zm4 0h-2V7h2v10zm4 0h-2v-4h2v4z\"/>\n",
              "    </g>\n",
              "</svg>\n",
              "      </button>\n",
              "\n",
              "<style>\n",
              "  .colab-df-quickchart {\n",
              "      --bg-color: #E8F0FE;\n",
              "      --fill-color: #1967D2;\n",
              "      --hover-bg-color: #E2EBFA;\n",
              "      --hover-fill-color: #174EA6;\n",
              "      --disabled-fill-color: #AAA;\n",
              "      --disabled-bg-color: #DDD;\n",
              "  }\n",
              "\n",
              "  [theme=dark] .colab-df-quickchart {\n",
              "      --bg-color: #3B4455;\n",
              "      --fill-color: #D2E3FC;\n",
              "      --hover-bg-color: #434B5C;\n",
              "      --hover-fill-color: #FFFFFF;\n",
              "      --disabled-bg-color: #3B4455;\n",
              "      --disabled-fill-color: #666;\n",
              "  }\n",
              "\n",
              "  .colab-df-quickchart {\n",
              "    background-color: var(--bg-color);\n",
              "    border: none;\n",
              "    border-radius: 50%;\n",
              "    cursor: pointer;\n",
              "    display: none;\n",
              "    fill: var(--fill-color);\n",
              "    height: 32px;\n",
              "    padding: 0;\n",
              "    width: 32px;\n",
              "  }\n",
              "\n",
              "  .colab-df-quickchart:hover {\n",
              "    background-color: var(--hover-bg-color);\n",
              "    box-shadow: 0 1px 2px rgba(60, 64, 67, 0.3), 0 1px 3px 1px rgba(60, 64, 67, 0.15);\n",
              "    fill: var(--button-hover-fill-color);\n",
              "  }\n",
              "\n",
              "  .colab-df-quickchart-complete:disabled,\n",
              "  .colab-df-quickchart-complete:disabled:hover {\n",
              "    background-color: var(--disabled-bg-color);\n",
              "    fill: var(--disabled-fill-color);\n",
              "    box-shadow: none;\n",
              "  }\n",
              "\n",
              "  .colab-df-spinner {\n",
              "    border: 2px solid var(--fill-color);\n",
              "    border-color: transparent;\n",
              "    border-bottom-color: var(--fill-color);\n",
              "    animation:\n",
              "      spin 1s steps(1) infinite;\n",
              "  }\n",
              "\n",
              "  @keyframes spin {\n",
              "    0% {\n",
              "      border-color: transparent;\n",
              "      border-bottom-color: var(--fill-color);\n",
              "      border-left-color: var(--fill-color);\n",
              "    }\n",
              "    20% {\n",
              "      border-color: transparent;\n",
              "      border-left-color: var(--fill-color);\n",
              "      border-top-color: var(--fill-color);\n",
              "    }\n",
              "    30% {\n",
              "      border-color: transparent;\n",
              "      border-left-color: var(--fill-color);\n",
              "      border-top-color: var(--fill-color);\n",
              "      border-right-color: var(--fill-color);\n",
              "    }\n",
              "    40% {\n",
              "      border-color: transparent;\n",
              "      border-right-color: var(--fill-color);\n",
              "      border-top-color: var(--fill-color);\n",
              "    }\n",
              "    60% {\n",
              "      border-color: transparent;\n",
              "      border-right-color: var(--fill-color);\n",
              "    }\n",
              "    80% {\n",
              "      border-color: transparent;\n",
              "      border-right-color: var(--fill-color);\n",
              "      border-bottom-color: var(--fill-color);\n",
              "    }\n",
              "    90% {\n",
              "      border-color: transparent;\n",
              "      border-bottom-color: var(--fill-color);\n",
              "    }\n",
              "  }\n",
              "</style>\n",
              "\n",
              "      <script>\n",
              "        async function quickchart(key) {\n",
              "          const quickchartButtonEl =\n",
              "            document.querySelector('#' + key + ' button');\n",
              "          quickchartButtonEl.disabled = true;  // To prevent multiple clicks.\n",
              "          quickchartButtonEl.classList.add('colab-df-spinner');\n",
              "          try {\n",
              "            const charts = await google.colab.kernel.invokeFunction(\n",
              "                'suggestCharts', [key], {});\n",
              "          } catch (error) {\n",
              "            console.error('Error during call to suggestCharts:', error);\n",
              "          }\n",
              "          quickchartButtonEl.classList.remove('colab-df-spinner');\n",
              "          quickchartButtonEl.classList.add('colab-df-quickchart-complete');\n",
              "        }\n",
              "        (() => {\n",
              "          let quickchartButtonEl =\n",
              "            document.querySelector('#df-0bc00845-71a9-4ab4-b7e0-a4e2a4c119ae button');\n",
              "          quickchartButtonEl.style.display =\n",
              "            google.colab.kernel.accessAllowed ? 'block' : 'none';\n",
              "        })();\n",
              "      </script>\n",
              "    </div>\n",
              "\n",
              "  <div id=\"id_920879ed-3431-4a7b-a24a-9ea6f890fdc0\">\n",
              "    <style>\n",
              "      .colab-df-generate {\n",
              "        background-color: #E8F0FE;\n",
              "        border: none;\n",
              "        border-radius: 50%;\n",
              "        cursor: pointer;\n",
              "        display: none;\n",
              "        fill: #1967D2;\n",
              "        height: 32px;\n",
              "        padding: 0 0 0 0;\n",
              "        width: 32px;\n",
              "      }\n",
              "\n",
              "      .colab-df-generate:hover {\n",
              "        background-color: #E2EBFA;\n",
              "        box-shadow: 0px 1px 2px rgba(60, 64, 67, 0.3), 0px 1px 3px 1px rgba(60, 64, 67, 0.15);\n",
              "        fill: #174EA6;\n",
              "      }\n",
              "\n",
              "      [theme=dark] .colab-df-generate {\n",
              "        background-color: #3B4455;\n",
              "        fill: #D2E3FC;\n",
              "      }\n",
              "\n",
              "      [theme=dark] .colab-df-generate:hover {\n",
              "        background-color: #434B5C;\n",
              "        box-shadow: 0px 1px 3px 1px rgba(0, 0, 0, 0.15);\n",
              "        filter: drop-shadow(0px 1px 2px rgba(0, 0, 0, 0.3));\n",
              "        fill: #FFFFFF;\n",
              "      }\n",
              "    </style>\n",
              "    <button class=\"colab-df-generate\" onclick=\"generateWithVariable('df')\"\n",
              "            title=\"Generate code using this dataframe.\"\n",
              "            style=\"display:none;\">\n",
              "\n",
              "  <svg xmlns=\"http://www.w3.org/2000/svg\" height=\"24px\"viewBox=\"0 0 24 24\"\n",
              "       width=\"24px\">\n",
              "    <path d=\"M7,19H8.4L18.45,9,17,7.55,7,17.6ZM5,21V16.75L18.45,3.32a2,2,0,0,1,2.83,0l1.4,1.43a1.91,1.91,0,0,1,.58,1.4,1.91,1.91,0,0,1-.58,1.4L9.25,21ZM18.45,9,17,7.55Zm-12,3A5.31,5.31,0,0,0,4.9,8.1,5.31,5.31,0,0,0,1,6.5,5.31,5.31,0,0,0,4.9,4.9,5.31,5.31,0,0,0,6.5,1,5.31,5.31,0,0,0,8.1,4.9,5.31,5.31,0,0,0,12,6.5,5.46,5.46,0,0,0,6.5,12Z\"/>\n",
              "  </svg>\n",
              "    </button>\n",
              "    <script>\n",
              "      (() => {\n",
              "      const buttonEl =\n",
              "        document.querySelector('#id_920879ed-3431-4a7b-a24a-9ea6f890fdc0 button.colab-df-generate');\n",
              "      buttonEl.style.display =\n",
              "        google.colab.kernel.accessAllowed ? 'block' : 'none';\n",
              "\n",
              "      buttonEl.onclick = () => {\n",
              "        google.colab.notebook.generateWithVariable('df');\n",
              "      }\n",
              "      })();\n",
              "    </script>\n",
              "  </div>\n",
              "\n",
              "    </div>\n",
              "  </div>\n"
            ],
            "application/vnd.google.colaboratory.intrinsic+json": {
              "type": "dataframe",
              "variable_name": "df",
              "summary": "{\n  \"name\": \"df\",\n  \"rows\": 4,\n  \"fields\": [\n    {\n      \"column\": \"Size Board\",\n      \"properties\": {\n        \"dtype\": \"string\",\n        \"num_unique_values\": 2,\n        \"samples\": [\n          \"4x4\",\n          \"3x3\"\n        ],\n        \"semantic_type\": \"\",\n        \"description\": \"\"\n      }\n    },\n    {\n      \"column\": \"Move Ordering\",\n      \"properties\": {\n        \"dtype\": \"string\",\n        \"num_unique_values\": 2,\n        \"samples\": [\n          \"C\\u00f3\",\n          \"Kh\\u00f4ng\"\n        ],\n        \"semantic_type\": \"\",\n        \"description\": \"\"\n      }\n    },\n    {\n      \"column\": \"Time(s)\",\n      \"properties\": {\n        \"dtype\": \"number\",\n        \"std\": 15.122691708790905,\n        \"min\": 0.008134841918945312,\n        \"max\": 30.705260515213013,\n        \"num_unique_values\": 4,\n        \"samples\": [\n          0.009538650512695312,\n          19.02787160873413\n        ],\n        \"semantic_type\": \"\",\n        \"description\": \"\"\n      }\n    }\n  ]\n}"
            }
          },
          "metadata": {},
          "execution_count": 14
        }
      ],
      "source": [
        "# Your code/ answer goes here.\n",
        "\"\"\"\n",
        "  Hàm ordered_actions() giúp Minimax Alpha–Beta xét nước đi “tốt” (gần trung tâm) trước, nhờ đó tỉa nhánh sớm hơn,\n",
        "  giảm đáng kể thời gian tính toán mà không làm sai kết quả.\n",
        "\"\"\"\n",
        "import pandas as pd\n",
        "def ordering_actions(board):\n",
        "  num_cols = board.shape[1]\n",
        "  valid_columns = []\n",
        "  for c in range(num_cols):\n",
        "    column = board[:, c]               # Lấy toàn bộ cột thứ c\n",
        "    if 0 in column:                    # Nếu cột còn chỗ trống\n",
        "      valid_columns.append(c)          # Thêm vào danh sách hợp lệ\n",
        "  center_column = num_cols // 2\n",
        "  distances = []\n",
        "  for c in valid_columns:\n",
        "    distance = abs(c - center_column)  # Khoảng cách tới trung tâm\n",
        "    distances.append((c, distance))    # Lưu cả chỉ số và độ xa\n",
        "  distances.sort(key=lambda x: x[1])\n",
        "  ordered_columns = [c for c, _ in distances]\n",
        "  return ordered_columns\n",
        "\n",
        "# Viết lại hàm minimax để sử dụng move ordering\n",
        "def minimax_agent2(board,player):\n",
        "  best_value = -math.inf\n",
        "  best_move = None\n",
        "  for action in ordering_actions(board):\n",
        "    value = min_value2(result(board,player,action),-player,-math.inf,math.inf)\n",
        "    if value > best_value:\n",
        "      best_value = value\n",
        "      best_move = action\n",
        "  return best_move\n",
        "def max_value2(board,player,alpha,beta):\n",
        "  if terminal(board):\n",
        "    return utility(board)\n",
        "  v = -math.inf\n",
        "  for action in ordering_actions(board):\n",
        "    v = max(v,min_value2(result(board,player,action),-player,alpha,beta))\n",
        "    if v >= beta:\n",
        "      return v\n",
        "    alpha = max(alpha,v)\n",
        "  return v\n",
        "\n",
        "def min_value2(board,player,alpha,beta):\n",
        "  if terminal(board):\n",
        "    return utility(board)\n",
        "  v = math.inf\n",
        "  for action in ordering_actions(board):\n",
        "    v = min(v,max_value2(result(board,player,action),-player,alpha,beta))\n",
        "    if v <= alpha:\n",
        "      return v\n",
        "    beta = min(beta,v)\n",
        "  return v\n",
        "times = []\n",
        "for i in range(3,5,1):\n",
        "\n",
        "  # Không sử dụng odering_move\n",
        "  start_time1 = time.time()\n",
        "  play_game(random_player,minimax_agent, 1, (i,i), False)\n",
        "  end_time1 = time.time()\n",
        "\n",
        "  # Sử dụng ordering_move\n",
        "  start_time2 = time.time()\n",
        "  play_game(random_player,minimax_agent2, 1, (i,i), False)\n",
        "  end_time2 = time.time()\n",
        "\n",
        "  times.append(end_time1-start_time1)\n",
        "  times.append(end_time2-start_time2)\n",
        "\n",
        "data = {\n",
        "    \"Size Board\": [\"3x3\", \"3x3\",\"4x4\", \"4x4\"],\n",
        "    \"Move Ordering\": [\"Không\", \"Có\", \"Không\", \"Có\"],\n",
        "    \"Time(s)\": times\n",
        "}\n",
        "df = pd.DataFrame(data)\n",
        "df"
      ]
    },
    {
      "cell_type": "markdown",
      "metadata": {
        "id": "SXZ4q74ewix8"
      },
      "source": [
        "### The first few moves [5 points]\n",
        "\n",
        "Start with an empty board. This is the worst case scenario for minimax search since it needs solve all possible games that can be played (minus some pruning) before making the decision. What can you do?"
      ]
    },
    {
      "cell_type": "code",
      "execution_count": null,
      "metadata": {
        "id": "-4nohj1zwix8",
        "colab": {
          "base_uri": "https://localhost:8080/",
          "height": 73
        },
        "outputId": "f9c1684c-e7fb-4dbc-97d7-15cd6ef98f2e"
      },
      "outputs": [
        {
          "output_type": "execute_result",
          "data": {
            "text/plain": [
              "'\\n  Khi bắt đầu với bàn cờ trống, Minimax phải xét toàn bộ cây trò chơi, đây là trường hợp tệ nhất vì không có trạng thái nào bị cắt tỉa.\\n  Để giảm thời gian, ta có thể:\\n    Giới hạn độ sâu tìm kiếm (depth limit).\\n    Sử dụng hàm heuristic để đánh giá sớm các trạng thái chưa kết thúc.\\n    Sắp xếp thứ tự nước đi (move ordering) để tăng hiệu quả alpha–beta pruning.\\n'"
            ],
            "application/vnd.google.colaboratory.intrinsic+json": {
              "type": "string"
            }
          },
          "metadata": {},
          "execution_count": 13
        }
      ],
      "source": [
        "# Your code/ answer goes here.\n",
        "\"\"\"\n",
        "  Khi bắt đầu với bàn cờ trống, Minimax phải xét toàn bộ cây trò chơi, đây là trường hợp tệ nhất vì không có trạng thái nào bị cắt tỉa.\n",
        "  Để giảm thời gian, ta có thể:\n",
        "    Giới hạn độ sâu tìm kiếm (depth limit).\n",
        "    Sử dụng hàm heuristic để đánh giá sớm các trạng thái chưa kết thúc.\n",
        "    Sắp xếp thứ tự nước đi (move ordering) để tăng hiệu quả alpha–beta pruning.\n",
        "\"\"\""
      ]
    },
    {
      "cell_type": "markdown",
      "metadata": {
        "id": "OEChXNEgwix8"
      },
      "source": [
        "### Playtime [5 points]\n",
        "\n",
        "Let the Minimax Search agent play a random agent on a $4 \\times 4$ board. Analyze wins, losses and draws."
      ]
    },
    {
      "cell_type": "code",
      "execution_count": null,
      "metadata": {
        "id": "yM3miGIpwix8",
        "colab": {
          "base_uri": "https://localhost:8080/"
        },
        "outputId": "b59920ad-004c-46f2-e01c-2d8e3550938c"
      },
      "outputs": [
        {
          "output_type": "execute_result",
          "data": {
            "text/plain": [
              "{'player_1': 8, 'player_2': 0, 'draw': 2}"
            ]
          },
          "metadata": {},
          "execution_count": 14
        }
      ],
      "source": [
        "# Your code/ answer goes here.\n",
        "play_game(minimax_agent2,random_player, 10,(4,4),False)"
      ]
    },
    {
      "cell_type": "markdown",
      "metadata": {
        "id": "00F1WHw1wix8"
      },
      "source": [
        "## Task 4: Heuristic Alpha-Beta Tree Search\n",
        "\n",
        "### Heuristic evaluation function [15 points]\n",
        "\n",
        "Define and implement a heuristic evaluation function. Make sure that the heuristic value stays in the correct range."
      ]
    },
    {
      "cell_type": "code",
      "execution_count": 16,
      "metadata": {
        "id": "jbnyiEf8wix8"
      },
      "outputs": [],
      "source": [
        "# Your code/ answer goes here.\n",
        "\"\"\"\n",
        "  Hàm heuristic(state, player) để ước lượng \"độ tốt\" của trạng thái hiện tại cho player.\n",
        "  Hàm này trả giá trị trong khoảng [-1, 1]:\n",
        "    +1: trạng thái rất tốt cho player (gần thắng)\n",
        "    -1: trạng thái rất tệ cho player (gần thua)\n",
        "    0: trạng thái trung lập\n",
        "\"\"\"\n",
        "def count_pattern(board, player, length):\n",
        "    count = 0\n",
        "    directions = [(0, 1), (1, 0), (1, 1), (-1, 1)]\n",
        "    rows, cols = board.shape\n",
        "\n",
        "    for r in range(rows):\n",
        "        for c in range(cols):\n",
        "            for dr, dc in directions:\n",
        "                line = []\n",
        "                for i in range(length):\n",
        "                    nr, nc = r + dr*i, c + dc*i\n",
        "                    if 0 <= nr < rows and 0 <= nc < cols:\n",
        "                        line.append(board[nr][nc])\n",
        "                    else:\n",
        "                        break\n",
        "                if len(line) == length and line == [player] * length:\n",
        "                    count += 1\n",
        "    return count\n",
        "\n",
        "def heuristic_evaluation(board, player):\n",
        "    score = 0\n",
        "    score += count_pattern(board, player, 3) * 80\n",
        "    score += count_pattern(board, player, 2) * 20\n",
        "    score -= count_pattern(board, -player, 3) * 100\n",
        "    score -= count_pattern(board, -player, 2) * 30\n",
        "    return np.tanh(score / 200)\n"
      ]
    },
    {
      "cell_type": "markdown",
      "metadata": {
        "id": "U3md7iawwix8"
      },
      "source": [
        "### Cutting Off Search [10 points]\n",
        "\n",
        "Modify your minimax search with alpha-beta pruning to cut off search at a specified depth and use the heuristic evaluation function. Experiment with different cutoff values."
      ]
    },
    {
      "cell_type": "code",
      "execution_count": 21,
      "metadata": {
        "id": "JzAElrDowix9"
      },
      "outputs": [],
      "source": [
        "# Your code/ answer goes here.\n",
        "# Viết lại hàm minimax để sử dụng kỹ thuật cut off\n",
        "def minimax_agent3(board,player,max_depth = 3):\n",
        "  best_value = -math.inf\n",
        "  best_move = None\n",
        "\n",
        "  for action in ordering_actions(board):\n",
        "    value = min_value3(result(board,player,action),-player,max_depth-1,-math.inf,math.inf)\n",
        "    if value > best_value:\n",
        "      best_value = value\n",
        "      best_move = action\n",
        "  return best_move\n",
        "\n",
        "def max_value3(board,player,depth,alpha,beta):\n",
        "  if terminal(board):\n",
        "    return utility(board)\n",
        "  elif depth == 0:\n",
        "    return heuristic_evaluation(board, player)\n",
        "  v = -math.inf\n",
        "  for action in ordering_actions(board):\n",
        "    v = max(v,min_value3(result(board,player,action),-player,depth-1,alpha,beta))\n",
        "    if v >= beta:\n",
        "      return v\n",
        "    alpha = max(alpha,v)\n",
        "  return v\n",
        "\n",
        "def min_value3(board,player,depth,alpha,beta):\n",
        "  if terminal(board):\n",
        "    return utility(board)\n",
        "  elif depth == 0:\n",
        "    return heuristic_evaluation(board, -player)\n",
        "  v = math.inf\n",
        "  for action in ordering_actions(board):\n",
        "    v = min(v,max_value3(result(board,player,action),-player,depth-1,alpha,beta))\n",
        "    if v <= alpha:\n",
        "      return v\n",
        "    beta = min(beta,v)\n",
        "  return v"
      ]
    },
    {
      "cell_type": "markdown",
      "metadata": {
        "id": "O8URJ-4ewix9"
      },
      "source": [
        "Experiment with the same manually created boards as above to check if the agent spots wining opportunities."
      ]
    },
    {
      "cell_type": "code",
      "execution_count": 15,
      "metadata": {
        "id": "KAdvuZ4Iwix9",
        "colab": {
          "base_uri": "https://localhost:8080/",
          "height": 448
        },
        "outputId": "c827b2c6-5f7c-4aff-9906-833c51450a60"
      },
      "outputs": [
        {
          "output_type": "stream",
          "name": "stdout",
          "text": [
            "Agent chọn cột: 3\n"
          ]
        },
        {
          "output_type": "display_data",
          "data": {
            "text/plain": [
              "<Figure size 640x480 with 1 Axes>"
            ],
            "image/png": "[encoded data removed]"
          },
          "metadata": {}
        }
      ],
      "source": [
        "# Your code/ answer goes here.\n",
        "board6 = np.array([\n",
        "    [0, 0, 0, 0],\n",
        "    [0, 0, 0, 0],\n",
        "    [-1,-1, 0, 0],  # Player 1 chỉ cần đặt thêm 1 quân ở cột 3 để thắng\n",
        "    [1, 1, 1, 0]\n",
        "])\n",
        "\n",
        "\n",
        "move = minimax_agent3(board6, player=1, max_depth=3)\n",
        "\n",
        "print(\"Agent chọn cột:\", move)\n",
        "visualize(result(board6,1,move))"
      ]
    },
    {
      "cell_type": "markdown",
      "metadata": {
        "id": "LOM3lK_Mwix9"
      },
      "source": [
        "How long does it take to make a move? Start with a smaller board with 4 columns and make the board larger by adding columns."
      ]
    },
    {
      "cell_type": "code",
      "execution_count": 24,
      "metadata": {
        "id": "9lcgXN9Ywix9",
        "colab": {
          "base_uri": "https://localhost:8080/"
        },
        "outputId": "d5eed3c2-d2c9-45d1-cff9-a212c790460e"
      },
      "outputs": [
        {
          "output_type": "stream",
          "name": "stdout",
          "text": [
            "4 cột -> Thời gian: 0.023s, Nước đi: 2\n",
            "5 cột -> Thời gian: 0.071s, Nước đi: 2\n",
            "6 cột -> Thời gian: 0.147s, Nước đi: 3\n"
          ]
        }
      ],
      "source": [
        "# Your code/ answer goes here.\n",
        "import time\n",
        "\n",
        "for cols in [4, 5, 6]:\n",
        "    board = empty_board((cols,cols))\n",
        "    start = time.time()\n",
        "    move = minimax_agent3(board, player=1, max_depth=3)\n",
        "    end = time.time()\n",
        "    print(f\"{cols} cột -> Thời gian: {end - start:.3f}s, Nước đi: {move}\")\n"
      ]
    },
    {
      "cell_type": "markdown",
      "metadata": {
        "id": "S3EU_owiwiyI"
      },
      "source": [
        "### Playtime [5 points]\n",
        "\n",
        "Let two heuristic search agents (different cutoff depth) compete against each other on a reasonably sized board. Since there is no randomness, you only need to let them play once."
      ]
    },
    {
      "cell_type": "code",
      "execution_count": 23,
      "metadata": {
        "id": "SvrWTL60wiyI",
        "colab": {
          "base_uri": "https://localhost:8080/"
        },
        "outputId": "ac4773c2-29ad-45ab-bf41-11555af5ef7c"
      },
      "outputs": [
        {
          "output_type": "execute_result",
          "data": {
            "text/plain": [
              "{'player_1': 10, 'player_2': 0, 'draw': 0}"
            ]
          },
          "metadata": {},
          "execution_count": 23
        }
      ],
      "source": [
        "# Your code/ answer goes here\n",
        "play_game(minimax_agent3,minimax_agent, 10,(4,4),False)"
      ]
    },
    {
      "cell_type": "markdown",
      "metadata": {
        "id": "jgvxYc90wiyI"
      },
      "source": [
        "## Challenge task [up to +10 bonus point will be awarded separately]\n",
        "\n",
        "Find another student and let your best agent play against the other student's best player. We will set up a class tournament on Canvas. This tournament will continue after the submission deadline."
      ]
    },
    {
      "cell_type": "markdown",
      "metadata": {
        "id": "IGMUeSaBwiyI"
      },
      "source": [
        "## Graduate student advanced task: Pure Monte Carlo Search and Best First Move [10 point]\n",
        "\n",
        "__Undergraduate students:__ This is a bonus task you can attempt if you like [+5 bonus point].\n",
        "\n",
        "### Pure Monte Carlo Search\n",
        "\n",
        "Implement Pure Monte Carlo Search and investigate how this search performs on the test boards that you have used above."
      ]
    },
    {
      "cell_type": "code",
      "execution_count": null,
      "metadata": {
        "id": "eoWQULBAwiyJ"
      },
      "outputs": [],
      "source": [
        "# Your code/ answer goes here.\n"
      ]
    },
    {
      "cell_type": "markdown",
      "metadata": {
        "id": "Bmbs8gyhwiyJ"
      },
      "source": [
        "### Best First Move\n",
        "\n",
        "Use your Monte Carlo Search to determine what the best first move for red is? Describe under what assumptions this is the \"best\" first move.  "
      ]
    },
    {
      "cell_type": "code",
      "execution_count": null,
      "metadata": {
        "id": "dfliwdrEwiyJ"
      },
      "outputs": [],
      "source": [
        "# Your code/ answer goes here."
      ]
    }
  ],
  "metadata": {
    "kernelspec": {
      "display_name": "Python 3 (ipykernel)",
      "language": "python",
      "name": "python3"
    },
    "language_info": {
      "codemirror_mode": {
        "name": "ipython",
        "version": 3
      },
      "file_extension": ".py",
      "mimetype": "text/x-python",
      "name": "python",
      "nbconvert_exporter": "python",
      "pygments_lexer": "ipython3",
      "version": "3.10.12"
    },
    "colab": {
      "provenance": []
    }
  },
  "nbformat": 4,
  "nbformat_minor": 0
}